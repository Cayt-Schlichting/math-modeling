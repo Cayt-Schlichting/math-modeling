{
 "cells": [
  {
   "cell_type": "markdown",
   "id": "c5d9c8ff",
   "metadata": {},
   "source": [
    "### Minimizing Fuel Costs - MILP\n",
    "\n",
    "This is a basic mixed-integer linear problem for minimizing fuel costs. Example provided by [APMonitor](#https://www.youtube.com/watch?v=i8WS6HlE8qM)\n",
    "\n",
    "Say we have two options for buying crude (expensive and cheap).\n",
    "\n",
    "- The expensive crude is \\$95 a barrel\n",
    "- The cheap crude is \\$80 a barrel\n",
    "- The expensive crude produces 15 gallons of gasoline and 15 gallons of diesel\n",
    "- The cheap crude produces 10 gallons of gasoline and 20 gallons of diesel\n",
    "- We want to produce at least 100 gallons of gasoline and 160 gallons of diesel to meet current demand.\n",
    "- We can only buy crude by the barrell."
   ]
  },
  {
   "cell_type": "code",
   "execution_count": 1,
   "id": "9e8bd818",
   "metadata": {},
   "outputs": [],
   "source": [
    "#import our tools\n",
    "import pyomo.environ as pyo"
   ]
  },
  {
   "cell_type": "code",
   "execution_count": 2,
   "id": "7a69252a",
   "metadata": {},
   "outputs": [],
   "source": [
    "#initialize our concrete model\n",
    "m = pyo.ConcreteModel()\n",
    "\n",
    "#create our number of barrel variables (Expensive and cheap)\n",
    "m.vEbbl = pyo.Var(within = pyo.NonNegativeIntegers)\n",
    "m.vCbbl = pyo.Var(within = pyo.NonNegativeIntegers)"
   ]
  },
  {
   "cell_type": "code",
   "execution_count": 3,
   "id": "b23a38a3",
   "metadata": {},
   "outputs": [],
   "source": [
    "#create our cost minimization objective \n",
    "# cost = $95 * # of expensive bbls + $80 * # of cheap bbls\n",
    "m.cost = pyo.Objective(expr = 95*m.vEbbl + 80*m.vCbbl, sense=pyo.minimize)"
   ]
  },
  {
   "cell_type": "code",
   "execution_count": 4,
   "id": "71c912c3",
   "metadata": {},
   "outputs": [],
   "source": [
    "#Add our demand requirements (constraints if we want to meet current demand)\n",
    "# gallons of gas  = 15 * # Exp bbl + 10 * # Cheap bbl (must be >= 100 gallons)\n",
    "m.demandG = pyo.Constraint(expr = 15*m.vEbbl + 10*m.vCbbl >= 100)\n",
    "\n",
    "# gallons of diesel  = 15 * # Exp bbl + 20 * # Cheap bbl (must be >= 160 gallons)\n",
    "m.demandD = pyo.Constraint(expr = 15*m.vEbbl + 20*m.vCbbl >= 160)"
   ]
  },
  {
   "cell_type": "code",
   "execution_count": 5,
   "id": "295a7838",
   "metadata": {},
   "outputs": [],
   "source": [
    "#create solver and solve\n",
    "results = pyo.SolverFactory('glpk').solve(m)"
   ]
  },
  {
   "cell_type": "code",
   "execution_count": 6,
   "id": "57613e01",
   "metadata": {},
   "outputs": [
    {
     "name": "stdout",
     "output_type": "stream",
     "text": [
      "# ==========================================================\n",
      "# = Solver Results                                         =\n",
      "# ==========================================================\n",
      "# ----------------------------------------------------------\n",
      "#   Problem Information\n",
      "# ----------------------------------------------------------\n",
      "Problem: \n",
      "- Name: unknown\n",
      "  Lower bound: 750.0\n",
      "  Upper bound: 750.0\n",
      "  Number of objectives: 1\n",
      "  Number of constraints: 3\n",
      "  Number of variables: 3\n",
      "  Number of nonzeros: 5\n",
      "  Sense: minimize\n",
      "# ----------------------------------------------------------\n",
      "#   Solver Information\n",
      "# ----------------------------------------------------------\n",
      "Solver: \n",
      "- Status: ok\n",
      "  Termination condition: optimal\n",
      "  Statistics: \n",
      "    Branch and bound: \n",
      "      Number of bounded subproblems: 3\n",
      "      Number of created subproblems: 3\n",
      "  Error rc: 0\n",
      "  Time: 0.018649816513061523\n",
      "# ----------------------------------------------------------\n",
      "#   Solution Information\n",
      "# ----------------------------------------------------------\n",
      "Solution: \n",
      "- number of solutions: 0\n",
      "  number of solutions displayed: 0\n"
     ]
    }
   ],
   "source": [
    "#view the results\n",
    "results.write()"
   ]
  },
  {
   "cell_type": "markdown",
   "id": "667ce6d2",
   "metadata": {},
   "source": [
    "Lowest cost is \\$750, now let's se the number of barrels"
   ]
  },
  {
   "cell_type": "code",
   "execution_count": 7,
   "id": "cf41c047",
   "metadata": {},
   "outputs": [
    {
     "name": "stdout",
     "output_type": "stream",
     "text": [
      "2 Var Declarations\n",
      "    vCbbl : Size=1, Index=None\n",
      "        Key  : Lower : Value : Upper : Fixed : Stale : Domain\n",
      "        None :     0 :   7.0 :  None : False : False : NonNegativeIntegers\n",
      "    vEbbl : Size=1, Index=None\n",
      "        Key  : Lower : Value : Upper : Fixed : Stale : Domain\n",
      "        None :     0 :   2.0 :  None : False : False : NonNegativeIntegers\n",
      "\n",
      "1 Objective Declarations\n",
      "    cost : Size=1, Index=None, Active=True\n",
      "        Key  : Active : Sense    : Expression\n",
      "        None :   True : minimize : 95*vEbbl + 80*vCbbl\n",
      "\n",
      "2 Constraint Declarations\n",
      "    demandD : Size=1, Index=None, Active=True\n",
      "        Key  : Lower : Body                : Upper : Active\n",
      "        None : 160.0 : 15*vEbbl + 20*vCbbl :  +Inf :   True\n",
      "    demandG : Size=1, Index=None, Active=True\n",
      "        Key  : Lower : Body                : Upper : Active\n",
      "        None : 100.0 : 15*vEbbl + 10*vCbbl :  +Inf :   True\n",
      "\n",
      "5 Declarations: vEbbl vCbbl cost demandG demandD\n"
     ]
    }
   ],
   "source": [
    "m.pprint()"
   ]
  },
  {
   "cell_type": "markdown",
   "id": "0cb17ce6",
   "metadata": {},
   "source": [
    "We see that we need 7 barrel of cheap crude and 2 barrels of expensive crude. If we plug those back into our demand solutions, we see that it produces us 170 gallons of Diesel and 100 gallons of gas"
   ]
  }
 ],
 "metadata": {
  "kernelspec": {
   "display_name": "Python 3 (ipykernel)",
   "language": "python",
   "name": "python3"
  },
  "language_info": {
   "codemirror_mode": {
    "name": "ipython",
    "version": 3
   },
   "file_extension": ".py",
   "mimetype": "text/x-python",
   "name": "python",
   "nbconvert_exporter": "python",
   "pygments_lexer": "ipython3",
   "version": "3.9.7"
  }
 },
 "nbformat": 4,
 "nbformat_minor": 5
}
