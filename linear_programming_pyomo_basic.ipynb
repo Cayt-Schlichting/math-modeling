{
 "cells": [
  {
   "cell_type": "code",
   "execution_count": 1,
   "id": "e7fc2957",
   "metadata": {},
   "outputs": [],
   "source": [
    "from pyomo.environ import *"
   ]
  },
  {
   "cell_type": "markdown",
   "id": "92e076e5",
   "metadata": {},
   "source": [
    "### Example 1: \n",
    "\n",
    "- maximize 40x + 30y\n",
    "- x <= 40\n",
    "- x + y <= 80\n",
    "- 2x + y <= 100\n",
    "- x and y are production rates (units per week)\n"
   ]
  },
  {
   "cell_type": "markdown",
   "id": "043a0b8c",
   "metadata": {},
   "source": [
    "##### Create model object"
   ]
  },
  {
   "cell_type": "code",
   "execution_count": 2,
   "id": "1e8f1532",
   "metadata": {},
   "outputs": [],
   "source": [
    "#Concrete is when we know everything we need to know right now\n",
    "m = ConcreteModel()"
   ]
  },
  {
   "cell_type": "code",
   "execution_count": 3,
   "id": "047332f0",
   "metadata": {},
   "outputs": [
    {
     "data": {
      "text/plain": [
       "pyomo.core.base.PyomoModel.ConcreteModel"
      ]
     },
     "execution_count": 3,
     "metadata": {},
     "output_type": "execute_result"
    }
   ],
   "source": [
    "type(m)"
   ]
  },
  {
   "cell_type": "markdown",
   "id": "f141dac4",
   "metadata": {},
   "source": [
    "##### Add model variables - with constraints"
   ]
  },
  {
   "cell_type": "code",
   "execution_count": 4,
   "id": "bfa0353c",
   "metadata": {},
   "outputs": [
    {
     "name": "stdout",
     "output_type": "stream",
     "text": [
      "Help on class Var in module pyomo.core.base.var:\n",
      "\n",
      "class Var(pyomo.core.base.indexed_component.IndexedComponent, pyomo.core.base.indexed_component.IndexedComponent_NDArrayMixin)\n",
      " |  Var(*args, **kwargs)\n",
      " |  \n",
      " |  A numeric variable, which may be defined over an index.\n",
      " |  \n",
      " |  Args:\n",
      " |      domain (Set or function, optional): A Set that defines valid\n",
      " |          values for the variable (e.g., `Reals`, `NonNegativeReals`,\n",
      " |          `Binary`), or a rule that returns Sets.  Defaults to `Reals`.\n",
      " |      within (Set or function, optional): An alias for `domain`.\n",
      " |      bounds (tuple or function, optional): A tuple of (lower, upper)\n",
      " |          bounds for the variable, or a rule that returns tuples.\n",
      " |          Defaults to (None, None).\n",
      " |      initialize (float or function, optional): The initial value for\n",
      " |          the variable, or a rule that returns initial values.\n",
      " |      rule (float or function, optional): An alias for `initialize`.\n",
      " |      dense (bool, optional): Instantiate all elements from\n",
      " |          `index_set()` when constructing the Var (True) or just the\n",
      " |          variables returned by `initialize`/`rule` (False).  Defaults\n",
      " |          to True.\n",
      " |      units (pyomo units expression, optional): Set the units corresponding\n",
      " |          to the entries in this variable.\n",
      " |  \n",
      " |  Method resolution order:\n",
      " |      Var\n",
      " |      pyomo.core.base.indexed_component.IndexedComponent\n",
      " |      pyomo.core.base.component.Component\n",
      " |      pyomo.core.base.component._ComponentBase\n",
      " |      pyomo.core.pyomoobject.PyomoObject\n",
      " |      pyomo.core.base.indexed_component.IndexedComponent_NDArrayMixin\n",
      " |      builtins.object\n",
      " |  \n",
      " |  Methods defined here:\n",
      " |  \n",
      " |  __init__(self, *args, **kwargs)\n",
      " |      Initialize self.  See help(type(self)) for accurate signature.\n",
      " |  \n",
      " |  add(self, index)\n",
      " |      Add a variable with a particular index.\n",
      " |  \n",
      " |  construct(self, data=None)\n",
      " |      Construct the _VarData objects for this variable\n",
      " |  \n",
      " |  extract_values = get_values(self, include_fixed_values=True)\n",
      " |  \n",
      " |  flag_as_stale(self)\n",
      " |      Set the 'stale' attribute of every variable data object to True.\n",
      " |  \n",
      " |  get_units(self)\n",
      " |      Return the units expression for this Var.\n",
      " |  \n",
      " |  get_values(self, include_fixed_values=True)\n",
      " |      Return a dictionary of index-value pairs.\n",
      " |  \n",
      " |  set_values(self, new_values, valid=False)\n",
      " |      Set the values of a dictionary.\n",
      " |      \n",
      " |      The default behavior is to validate the values in the\n",
      " |      dictionary.\n",
      " |  \n",
      " |  ----------------------------------------------------------------------\n",
      " |  Static methods defined here:\n",
      " |  \n",
      " |  __new__(cls, *args, **kwargs)\n",
      " |      Create and return a new object.  See help(type) for accurate signature.\n",
      " |  \n",
      " |  ----------------------------------------------------------------------\n",
      " |  Methods inherited from pyomo.core.base.indexed_component.IndexedComponent:\n",
      " |  \n",
      " |  __contains__(self, idx)\n",
      " |      Return true if the index is in the dictionary\n",
      " |  \n",
      " |  __delitem__(self, index)\n",
      " |  \n",
      " |  __getitem__(self, index)\n",
      " |      This method returns the data corresponding to the given index.\n",
      " |  \n",
      " |  __getstate__(self)\n",
      " |      This method must be defined to support pickling because this class\n",
      " |      owns weakrefs for '_parent'.\n",
      " |  \n",
      " |  __iter__(self)\n",
      " |      Return an iterator of the component data keys\n",
      " |  \n",
      " |  __len__(self)\n",
      " |      Return the number of component data objects stored by this\n",
      " |      component.\n",
      " |  \n",
      " |  __setitem__(self, index, val)\n",
      " |  \n",
      " |  __setstate__(self, state)\n",
      " |      This method must be defined to support pickling because this class\n",
      " |      owns weakrefs for '_parent'.\n",
      " |  \n",
      " |  clear(self)\n",
      " |      Clear the data in this component\n",
      " |  \n",
      " |  dim(self)\n",
      " |      Return the dimension of the index\n",
      " |  \n",
      " |  id_index_map(self)\n",
      " |      Return an dictionary id->index for\n",
      " |      all ComponentData instances.\n",
      " |  \n",
      " |  index_set(self)\n",
      " |      Return the index set\n",
      " |  \n",
      " |  is_indexed(self)\n",
      " |      Return true if this component is indexed\n",
      " |  \n",
      " |  is_reference(self)\n",
      " |      Return True if this component is a reference, where\n",
      " |      \"reference\" is interpreted as any component that does not\n",
      " |      own its own data.\n",
      " |  \n",
      " |  items(self, ordered=False)\n",
      " |      Return an iterator of (index,data) component data tuples\n",
      " |      \n",
      " |      Parameters\n",
      " |      ----------\n",
      " |      ordered: bool\n",
      " |          If True, then the items are returned in a deterministic\n",
      " |          order.  If the underlying indexing set is ordered then that\n",
      " |          ordering is used.  Otherwise, the items are sorted using\n",
      " |          :py:func:`sorted_robust`.\n",
      " |  \n",
      " |  iteritems(self)\n",
      " |      DEPRECATED.\n",
      " |      \n",
      " |      Return a list (index,data) tuples from the dictionary\n",
      " |      \n",
      " |      .. deprecated:: 6.0\n",
      " |         The iteritems method is deprecated. Use dict.items().\n",
      " |  \n",
      " |  iterkeys(self)\n",
      " |      DEPRECATED.\n",
      " |      \n",
      " |      Return a list of keys in the dictionary\n",
      " |      \n",
      " |      .. deprecated:: 6.0\n",
      " |         The iterkeys method is deprecated. Use dict.keys().\n",
      " |  \n",
      " |  itervalues(self)\n",
      " |      DEPRECATED.\n",
      " |      \n",
      " |      Return a list of the component data objects in the dictionary\n",
      " |      \n",
      " |      .. deprecated:: 6.0\n",
      " |         The itervalues method is deprecated. Use dict.values().\n",
      " |  \n",
      " |  keys(self, ordered=False)\n",
      " |      Return an iterator over the component data keys\n",
      " |      \n",
      " |      This method sets the ordering of component data objects within\n",
      " |      this IndexedComponent container.  For consistency,\n",
      " |      :py:meth:`__init__()`, :py:meth:`values`, and :py:meth:`items`\n",
      " |      all leverage this method to ensure consistent ordering.\n",
      " |      \n",
      " |      Parameters\n",
      " |      ----------\n",
      " |      ordered: bool\n",
      " |          If True, then the keys are returned in a deterministic\n",
      " |          order.  If the underlying indexing set is ordered then that\n",
      " |          ordering is used.  Otherwise, the keys are sorted using\n",
      " |          :py:func:`sorted_robust`.\n",
      " |  \n",
      " |  set_value(self, value)\n",
      " |      Set the value of a scalar component.\n",
      " |  \n",
      " |  to_dense_data(self)\n",
      " |      TODO\n",
      " |  \n",
      " |  values(self, ordered=False)\n",
      " |      Return an iterator of the component data objects\n",
      " |      \n",
      " |      Parameters\n",
      " |      ----------\n",
      " |      ordered: bool\n",
      " |          If True, then the values are returned in a deterministic\n",
      " |          order.  If the underlying indexing set is ordered then that\n",
      " |          ordering is used.  Otherwise, the component keys are sorted\n",
      " |          using :py:func:`sorted_robust` and the values are returned\n",
      " |          in that order.\n",
      " |  \n",
      " |  ----------------------------------------------------------------------\n",
      " |  Data and other attributes inherited from pyomo.core.base.indexed_component.IndexedComponent:\n",
      " |  \n",
      " |  Skip = <class 'pyomo.core.base.indexed_component.IndexedComponent.Skip...\n",
      " |  \n",
      " |  ----------------------------------------------------------------------\n",
      " |  Methods inherited from pyomo.core.base.component.Component:\n",
      " |  \n",
      " |  __str__(self)\n",
      " |      Return the component name\n",
      " |  \n",
      " |  clear_suffix_value(self, suffix_or_name, expand=True)\n",
      " |      Clear the suffix value for this component data\n",
      " |  \n",
      " |  display(self, ostream=None, verbose=False, prefix='')\n",
      " |  \n",
      " |  get_suffix_value(self, suffix_or_name, default=None)\n",
      " |      Get the suffix value for this component data\n",
      " |  \n",
      " |  getname(self, fully_qualified=False, name_buffer=None, relative_to=None)\n",
      " |      Returns the component name associated with this object.\n",
      " |      \n",
      " |      Parameters\n",
      " |      ----------\n",
      " |      fully_qualified: bool\n",
      " |          Generate full name from nested block names\n",
      " |      \n",
      " |      name_buffer: dict\n",
      " |          A dictionary that caches encountered names and indices.\n",
      " |          Providing a ``name_buffer`` can significantly speed up\n",
      " |          iterative name generation\n",
      " |      \n",
      " |      relative_to: Block\n",
      " |          Generate fully_qualified names reletive to the specified block.\n",
      " |  \n",
      " |  is_constructed(self)\n",
      " |      Return True if this class has been constructed\n",
      " |  \n",
      " |  model(self)\n",
      " |      Returns the model associated with this object.\n",
      " |  \n",
      " |  parent_block(self)\n",
      " |      Returns the parent of this object.\n",
      " |  \n",
      " |  parent_component(self)\n",
      " |      Returns the component associated with this object.\n",
      " |  \n",
      " |  pprint(self, ostream=None, verbose=False, prefix='')\n",
      " |      Print component information\n",
      " |  \n",
      " |  reconstruct(self, data=None)\n",
      " |      REMOVED: reconstruct() was removed in Pyomo 6.0.\n",
      " |      \n",
      " |      Re-constructing model components was fragile and did not\n",
      " |      correctly update instances of the component used in other\n",
      " |      components or contexts (this was particularly problemmatic for\n",
      " |      Var, Param, and Set).  Users who wish to reproduce the old\n",
      " |      behavior of reconstruct(), are comfortable manipulating\n",
      " |      non-public interfaces, and who take the time to verify that the\n",
      " |      correct thing happens to their model can approximate the old\n",
      " |      behavior of reconstruct with:\n",
      " |      \n",
      " |          component.clear()\n",
      " |          component._constructed = False\n",
      " |          component.construct()\n",
      " |  \n",
      " |  root_block(self)\n",
      " |      Return self.model()\n",
      " |  \n",
      " |  set_suffix_value(self, suffix_or_name, value, expand=True)\n",
      " |      Set the suffix value for this component data\n",
      " |  \n",
      " |  type(self)\n",
      " |      DEPRECATED.\n",
      " |      \n",
      " |      Return the class type for this component\n",
      " |      \n",
      " |      .. deprecated:: 5.7\n",
      " |         Component.type() method has been replaced by the .ctype property.\n",
      " |  \n",
      " |  valid_model_component(self)\n",
      " |      Return True if this can be used as a model component.\n",
      " |  \n",
      " |  ----------------------------------------------------------------------\n",
      " |  Readonly properties inherited from pyomo.core.base.component.Component:\n",
      " |  \n",
      " |  ctype\n",
      " |      Return the class type for this component\n",
      " |  \n",
      " |  ----------------------------------------------------------------------\n",
      " |  Data descriptors inherited from pyomo.core.base.component.Component:\n",
      " |  \n",
      " |  __dict__\n",
      " |      dictionary for instance variables (if defined)\n",
      " |  \n",
      " |  __weakref__\n",
      " |      list of weak references to the object (if defined)\n",
      " |  \n",
      " |  name\n",
      " |      Get the fully qualifed component name.\n",
      " |  \n",
      " |  ----------------------------------------------------------------------\n",
      " |  Methods inherited from pyomo.core.base.component._ComponentBase:\n",
      " |  \n",
      " |  __deepcopy__(self, memo)\n",
      " |  \n",
      " |  cname(self, *args, **kwds)\n",
      " |      DEPRECATED.\n",
      " |      \n",
      " |      .. deprecated:: 5.0\n",
      " |         The cname() method has been renamed to getname().\n",
      " |          The preferred method of obtaining a component name is to use the\n",
      " |          .name property, which returns the fully qualified component name.\n",
      " |          The .local_name property will return the component name only within\n",
      " |          the context of the immediate parent container.\n",
      " |  \n",
      " |  is_component_type(self)\n",
      " |      Return True if this class is a Pyomo component\n",
      " |  \n",
      " |  ----------------------------------------------------------------------\n",
      " |  Readonly properties inherited from pyomo.core.base.component._ComponentBase:\n",
      " |  \n",
      " |  local_name\n",
      " |      Get the component name only within the context of\n",
      " |      the immediate parent container.\n",
      " |  \n",
      " |  ----------------------------------------------------------------------\n",
      " |  Data descriptors inherited from pyomo.core.base.component._ComponentBase:\n",
      " |  \n",
      " |  active\n",
      " |      Return the active attribute\n",
      " |  \n",
      " |  ----------------------------------------------------------------------\n",
      " |  Methods inherited from pyomo.core.pyomoobject.PyomoObject:\n",
      " |  \n",
      " |  is_expression_type(self)\n",
      " |      Return True if this numeric value is an expression\n",
      " |  \n",
      " |  is_logical_type(self)\n",
      " |      Return True if this class is a Pyomo Boolean value, variable, or expression.\n",
      " |  \n",
      " |  is_named_expression_type(self)\n",
      " |      Return True if this numeric value is a named expression\n",
      " |  \n",
      " |  is_numeric_type(self)\n",
      " |      Return True if this class is a Pyomo numeric object\n",
      " |  \n",
      " |  is_parameter_type(self)\n",
      " |      Return False unless this class is a parameter object\n",
      " |  \n",
      " |  is_variable_type(self)\n",
      " |      Return False unless this class is a variable object\n",
      " |  \n",
      " |  ----------------------------------------------------------------------\n",
      " |  Methods inherited from pyomo.core.base.indexed_component.IndexedComponent_NDArrayMixin:\n",
      " |  \n",
      " |  __array__(self, dtype=None)\n",
      " |  \n",
      " |  __array_ufunc__(self, ufunc, method, *inputs, **kwargs)\n",
      "\n"
     ]
    }
   ],
   "source": [
    "help(Var)"
   ]
  },
  {
   "cell_type": "code",
   "execution_count": 5,
   "id": "d9b36f4d",
   "metadata": {},
   "outputs": [],
   "source": [
    "#Since these are production rates, both variables need to be non-negative.\n",
    "#  With Var, can add bounds, or common domain constraints (nonnegative, reals, binary)\n",
    "#Create x and y variables\n",
    "m.x = Var(domain=NonNegativeReals)\n",
    "m.y = Var(within=NonNegativeReals) #within is the same as domain"
   ]
  },
  {
   "cell_type": "code",
   "execution_count": 6,
   "id": "920c94bd",
   "metadata": {},
   "outputs": [
    {
     "data": {
      "text/plain": [
       "pyomo.core.base.var.ScalarVar"
      ]
     },
     "execution_count": 6,
     "metadata": {},
     "output_type": "execute_result"
    }
   ],
   "source": [
    "type(m.x)"
   ]
  },
  {
   "cell_type": "markdown",
   "id": "648a79bb",
   "metadata": {},
   "source": [
    "##### Create Objective\n",
    "This is our goal: maximizing profit 40x + 30y"
   ]
  },
  {
   "cell_type": "code",
   "execution_count": 7,
   "id": "aa1dfc76",
   "metadata": {},
   "outputs": [],
   "source": [
    "#Profit is just the name of our objective.\n",
    "# note that we use our model variables in the expression\n",
    "# sense can be minimize or maximize\n",
    "m.profit = Objective(expr = 40*m.x + 30*m.y, sense=maximize)"
   ]
  },
  {
   "cell_type": "code",
   "execution_count": 8,
   "id": "5e043a8e",
   "metadata": {},
   "outputs": [
    {
     "data": {
      "text/plain": [
       "pyomo.core.base.objective.ScalarObjective"
      ]
     },
     "execution_count": 8,
     "metadata": {},
     "output_type": "execute_result"
    }
   ],
   "source": [
    "type(m.profit)"
   ]
  },
  {
   "cell_type": "markdown",
   "id": "62fbdf0c",
   "metadata": {},
   "source": [
    "##### Add additional constraints:\n",
    "\n",
    "- x <= 40\n",
    "- x + y <= 80\n",
    "- 2x + y <= 100"
   ]
  },
  {
   "cell_type": "code",
   "execution_count": 9,
   "id": "95170aea",
   "metadata": {},
   "outputs": [],
   "source": [
    "#Each of these can be named based off their real-world representation\n",
    "\n",
    "#demand for product X is less than 40\n",
    "m.xdemand = Constraint(expr = m.x <= 40)\n",
    "\n",
    "#labor contraints for producing x and y\n",
    "m.laborA = Constraint(expr = m.x + m.y <=80)\n",
    "m.laborB = Constraint(expr = 2*m.x + m.y <=100)"
   ]
  },
  {
   "cell_type": "markdown",
   "id": "3e2d6645",
   "metadata": {},
   "source": [
    "##### Create solver object and solve\n",
    "\n",
    "Solver notes:\n",
    "- glpk. \"GNU Linear Programming Kit\" is a software package written in highly portable C for the solution of mixed integer linear programming and related problems.\n",
    "- ipopt. \"Interior Point Optimizer\" for large scale nonlinear optimization of continuous systems.\n",
    "- cbc. \"COIN-OR Branch and Cut\" is a mixed integer linear programming solver written in C++. It generally solves the same problems as glpk, but can run multiple threads, and is often faster and more robust."
   ]
  },
  {
   "cell_type": "code",
   "execution_count": 10,
   "id": "7f26e590",
   "metadata": {},
   "outputs": [
    {
     "name": "stdout",
     "output_type": "stream",
     "text": [
      "True\n",
      "True\n"
     ]
    }
   ],
   "source": [
    "#I've installed two solvers so far:\n",
    "print(SolverFactory('glpk').available())\n",
    "print(SolverFactory('ipopt').available())"
   ]
  },
  {
   "cell_type": "code",
   "execution_count": 11,
   "id": "71d402fd",
   "metadata": {},
   "outputs": [],
   "source": [
    "#Create the solver and solve\n",
    "results = SolverFactory('glpk').solve(m)"
   ]
  },
  {
   "cell_type": "code",
   "execution_count": 12,
   "id": "fbbe9f41",
   "metadata": {},
   "outputs": [
    {
     "data": {
      "text/plain": [
       "pyomo.opt.results.results_.SolverResults"
      ]
     },
     "execution_count": 12,
     "metadata": {},
     "output_type": "execute_result"
    }
   ],
   "source": [
    "type(results)"
   ]
  },
  {
   "cell_type": "markdown",
   "id": "ce961308",
   "metadata": {},
   "source": [
    "##### View the results"
   ]
  },
  {
   "cell_type": "code",
   "execution_count": 13,
   "id": "fcc76ba8",
   "metadata": {},
   "outputs": [
    {
     "name": "stdout",
     "output_type": "stream",
     "text": [
      "# ==========================================================\n",
      "# = Solver Results                                         =\n",
      "# ==========================================================\n",
      "# ----------------------------------------------------------\n",
      "#   Problem Information\n",
      "# ----------------------------------------------------------\n",
      "Problem: \n",
      "- Name: unknown\n",
      "  Lower bound: 2600.0\n",
      "  Upper bound: 2600.0\n",
      "  Number of objectives: 1\n",
      "  Number of constraints: 4\n",
      "  Number of variables: 3\n",
      "  Number of nonzeros: 6\n",
      "  Sense: maximize\n",
      "# ----------------------------------------------------------\n",
      "#   Solver Information\n",
      "# ----------------------------------------------------------\n",
      "Solver: \n",
      "- Status: ok\n",
      "  Termination condition: optimal\n",
      "  Statistics: \n",
      "    Branch and bound: \n",
      "      Number of bounded subproblems: 0\n",
      "      Number of created subproblems: 0\n",
      "  Error rc: 0\n",
      "  Time: 0.015566110610961914\n",
      "# ----------------------------------------------------------\n",
      "#   Solution Information\n",
      "# ----------------------------------------------------------\n",
      "Solution: \n",
      "- number of solutions: 0\n",
      "  number of solutions displayed: 0\n"
     ]
    }
   ],
   "source": [
    "results.write()"
   ]
  },
  {
   "cell_type": "code",
   "execution_count": 14,
   "id": "b679ed47",
   "metadata": {},
   "outputs": [
    {
     "name": "stdout",
     "output_type": "stream",
     "text": [
      "2 Var Declarations\n",
      "    x : Size=1, Index=None\n",
      "        Key  : Lower : Value : Upper : Fixed : Stale : Domain\n",
      "        None :     0 :  20.0 :  None : False : False : NonNegativeReals\n",
      "    y : Size=1, Index=None\n",
      "        Key  : Lower : Value : Upper : Fixed : Stale : Domain\n",
      "        None :     0 :  60.0 :  None : False : False : NonNegativeReals\n",
      "\n",
      "1 Objective Declarations\n",
      "    profit : Size=1, Index=None, Active=True\n",
      "        Key  : Active : Sense    : Expression\n",
      "        None :   True : maximize : 40*x + 30*y\n",
      "\n",
      "3 Constraint Declarations\n",
      "    laborA : Size=1, Index=None, Active=True\n",
      "        Key  : Lower : Body  : Upper : Active\n",
      "        None :  -Inf : x + y :  80.0 :   True\n",
      "    laborB : Size=1, Index=None, Active=True\n",
      "        Key  : Lower : Body    : Upper : Active\n",
      "        None :  -Inf : 2*x + y : 100.0 :   True\n",
      "    xdemand : Size=1, Index=None, Active=True\n",
      "        Key  : Lower : Body : Upper : Active\n",
      "        None :  -Inf :    x :  40.0 :   True\n",
      "\n",
      "6 Declarations: x y profit xdemand laborA laborB\n"
     ]
    }
   ],
   "source": [
    "if results.solver.status == 'ok': m.pprint()"
   ]
  },
  {
   "cell_type": "markdown",
   "id": "9b7852e4",
   "metadata": {},
   "source": [
    "### Notes:\n",
    "\n",
    "- in the Var Declariations, we can see the value it found for x and y\n",
    "- Note that in this second print (pprint()), we don't see the profit, just the solved vairables\n",
    "- Looking at the write() outputs, we see the maximized profit listed under the problem 'bounds'.  (2600)\n",
    "- Constraint declarations have lower bounds of -Inf. I wonder if adding a discrete negative bound in those constraints would improve processing time.\n",
    "- **NOTE: This problem is 'neat'.  No integer constraints are included in this example even though all variables resulted in integers.**  Integer constraints should be included; I'll work with that in another example.\n"
   ]
  }
 ],
 "metadata": {
  "kernelspec": {
   "display_name": "Python 3 (ipykernel)",
   "language": "python",
   "name": "python3"
  },
  "language_info": {
   "codemirror_mode": {
    "name": "ipython",
    "version": 3
   },
   "file_extension": ".py",
   "mimetype": "text/x-python",
   "name": "python",
   "nbconvert_exporter": "python",
   "pygments_lexer": "ipython3",
   "version": "3.9.7"
  }
 },
 "nbformat": 4,
 "nbformat_minor": 5
}
